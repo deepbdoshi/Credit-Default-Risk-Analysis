{
 "cells": [
  {
   "cell_type": "markdown",
   "id": "22b536ab",
   "metadata": {},
   "source": [
    "## Problem Statement\n",
    "\n",
    "This project was done to solve an emerging problem for a big online platform committed to delivering customized loan products to millennials.\n",
    "\n",
    "They innovate in an otherwise dull loan segment, to deliver instant, flexible loans on consumer friendly terms to salaried professionals and businessmen.\n",
    "\n",
    "The data science team at this firm is building an underwriting layer to determine the creditworthiness of MSMEs as well as individuals.\n",
    "\n",
    "This firm deploys formal credit to salaried individuals and businesses 4 main financial instruments:\n",
    "* Personal Loan\n",
    "* EMI Free Loan\n",
    "* Personal Overdraft\n",
    "* Advance Salary Loan\n",
    "\n",
    "This case study will focus on the underwriting process behind Personal Loan only.\n",
    "\n",
    "Based on the given data I as a Data Scientist have to build and deploy a model that wil help the firm to figure out if a credit line should be extended to a customer or not. And if it should be extended then what should be the terms of the credit."
   ]
  },
  {
   "cell_type": "markdown",
   "id": "631bb7a0",
   "metadata": {},
   "source": [
    "## Importing Libraries"
   ]
  },
  {
   "cell_type": "code",
   "execution_count": 1,
   "id": "a6cdc122",
   "metadata": {},
   "outputs": [],
   "source": [
    "import pandas as pd\n",
    "import numpy as np\n",
    "import matplotlib.pyplot as mp\n",
    "import seaborn as sns\n",
    "from prettytable import PrettyTable\n",
    "\n",
    "from category_encoders import TargetEncoder\n",
    "\n",
    "pd.set_option('display.max_columns', None)"
   ]
  },
  {
   "cell_type": "code",
   "execution_count": null,
   "id": "c0869814",
   "metadata": {},
   "outputs": [],
   "source": [
    "loan_data = pd.read_csv(\"loantap.csv\")\n",
    "# loan_data.head()"
   ]
  },
  {
   "cell_type": "markdown",
   "id": "8102cca0",
   "metadata": {},
   "source": [
    "## Missing Values"
   ]
  },
  {
   "cell_type": "code",
   "execution_count": 99,
   "id": "2c0f34c9",
   "metadata": {},
   "outputs": [
    {
     "name": "stdout",
     "output_type": "stream",
     "text": [
      "╔═══════════════════════════════════════════╗\n",
      "║     Column Name        Missing Values Sum ║\n",
      "╟───────────────────────────────────────────╢\n",
      "║      emp_title                1169        ║\n",
      "║      emp_length               945         ║\n",
      "║        title                   83         ║\n",
      "║      revol_util                12         ║\n",
      "║ initial_list_status            1          ║\n",
      "║   application_type             1          ║\n",
      "║       mort_acc                1863        ║\n",
      "║ pub_rec_bankruptcies           30         ║\n",
      "║       address                  1          ║\n",
      "╚═══════════════════════════════════════════╝\n"
     ]
    }
   ],
   "source": [
    "from table2ascii import table2ascii\n",
    "\n",
    "body_list = []\n",
    "\n",
    "for col in loan_data.columns:\n",
    "    missing_val = loan_data[col].isna().sum()\n",
    "    if missing_val > 0:\n",
    "        body_list.append([col, missing_val])\n",
    "\n",
    "\n",
    "output = table2ascii(\n",
    "    header=[\"Column Name\", \"Missing Values Sum\"],\n",
    "    body=body_list)\n",
    "\n",
    "print(output)"
   ]
  },
  {
   "cell_type": "code",
   "execution_count": 100,
   "id": "000341dd",
   "metadata": {},
   "outputs": [
    {
     "name": "stdout",
     "output_type": "stream",
     "text": [
      "+----------------------+--------------------+\n",
      "|     Column Name      | Missing Values Sum |\n",
      "+----------------------+--------------------+\n",
      "|      emp_title       |        1169        |\n",
      "|      emp_length      |        945         |\n",
      "|        title         |         83         |\n",
      "|      revol_util      |         12         |\n",
      "| initial_list_status  |         1          |\n",
      "|   application_type   |         1          |\n",
      "|       mort_acc       |        1863        |\n",
      "| pub_rec_bankruptcies |         30         |\n",
      "|       address        |         1          |\n",
      "+----------------------+--------------------+\n"
     ]
    }
   ],
   "source": [
    "x = PrettyTable()\n",
    "x.field_names = [\"Column Name\", \"Missing Values Sum\"]\n",
    "missing_vals_cols = []\n",
    "\n",
    "for col in loan_data.columns:\n",
    "    missing_val = loan_data[col].isna().sum()\n",
    "    if missing_val > 0:\n",
    "        x.add_row([col, missing_val])\n",
    "        missing_vals_cols.append(col)\n",
    "\n",
    "print(x)"
   ]
  },
  {
   "cell_type": "markdown",
   "id": "099e4422",
   "metadata": {},
   "source": [
    "There are missing are values in the following columns.\n",
    "* emp_title\n",
    "* emp_length\n",
    "* title\n",
    "* revol_util\n",
    "* initial_list_status\n",
    "* mort_acc\n",
    "* pub_rec_bankruptcies\n",
    "* address\n",
    "\n",
    "We will decide what to do with these columns after further processing."
   ]
  },
  {
   "cell_type": "code",
   "execution_count": 101,
   "id": "019cfb29",
   "metadata": {},
   "outputs": [
    {
     "data": {
      "text/plain": [
       "['emp_title',\n",
       " 'emp_length',\n",
       " 'title',\n",
       " 'revol_util',\n",
       " 'initial_list_status',\n",
       " 'application_type',\n",
       " 'mort_acc',\n",
       " 'pub_rec_bankruptcies',\n",
       " 'address']"
      ]
     },
     "execution_count": 101,
     "metadata": {},
     "output_type": "execute_result"
    }
   ],
   "source": [
    "missing_vals_cols"
   ]
  },
  {
   "cell_type": "code",
   "execution_count": 102,
   "id": "71825101",
   "metadata": {},
   "outputs": [],
   "source": [
    "# loan_data.fillna(0, inplace=True)\n",
    "for col in missing_vals_cols:\n",
    "    if col == \"revol_util\":\n",
    "        loan_data[col].fillna(loan_data[col].mean(), inplace=True)\n",
    "    else:\n",
    "        loan_data[col].fillna(loan_data[[col]].mode().loc[0].values[0], inplace=True)"
   ]
  },
  {
   "cell_type": "code",
   "execution_count": 88,
   "id": "83926448",
   "metadata": {},
   "outputs": [
    {
     "data": {
      "text/html": [
       "<div>\n",
       "<style scoped>\n",
       "    .dataframe tbody tr th:only-of-type {\n",
       "        vertical-align: middle;\n",
       "    }\n",
       "\n",
       "    .dataframe tbody tr th {\n",
       "        vertical-align: top;\n",
       "    }\n",
       "\n",
       "    .dataframe thead th {\n",
       "        text-align: right;\n",
       "    }\n",
       "</style>\n",
       "<table border=\"1\" class=\"dataframe\">\n",
       "  <thead>\n",
       "    <tr style=\"text-align: right;\">\n",
       "      <th></th>\n",
       "      <th>loan_amnt</th>\n",
       "      <th>term</th>\n",
       "      <th>int_rate</th>\n",
       "      <th>installment</th>\n",
       "      <th>grade</th>\n",
       "      <th>sub_grade</th>\n",
       "      <th>emp_title</th>\n",
       "      <th>emp_length</th>\n",
       "      <th>home_ownership</th>\n",
       "      <th>annual_inc</th>\n",
       "      <th>verification_status</th>\n",
       "      <th>issue_d</th>\n",
       "      <th>loan_status</th>\n",
       "      <th>purpose</th>\n",
       "      <th>title</th>\n",
       "      <th>dti</th>\n",
       "      <th>earliest_cr_line</th>\n",
       "      <th>open_acc</th>\n",
       "      <th>pub_rec</th>\n",
       "      <th>revol_bal</th>\n",
       "      <th>revol_util</th>\n",
       "      <th>total_acc</th>\n",
       "      <th>initial_list_status</th>\n",
       "      <th>application_type</th>\n",
       "      <th>mort_acc</th>\n",
       "      <th>pub_rec_bankruptcies</th>\n",
       "      <th>address</th>\n",
       "    </tr>\n",
       "  </thead>\n",
       "  <tbody>\n",
       "    <tr>\n",
       "      <th>0</th>\n",
       "      <td>10000.0</td>\n",
       "      <td>36 months</td>\n",
       "      <td>11.44</td>\n",
       "      <td>329.48</td>\n",
       "      <td>B</td>\n",
       "      <td>B4</td>\n",
       "      <td>Marketing</td>\n",
       "      <td>10+ years</td>\n",
       "      <td>RENT</td>\n",
       "      <td>117000.0</td>\n",
       "      <td>Not Verified</td>\n",
       "      <td>Jan-2015</td>\n",
       "      <td>Fully Paid</td>\n",
       "      <td>vacation</td>\n",
       "      <td>Vacation</td>\n",
       "      <td>26.24</td>\n",
       "      <td>Jun-1990</td>\n",
       "      <td>16.0</td>\n",
       "      <td>0.0</td>\n",
       "      <td>36369.0</td>\n",
       "      <td>41.8</td>\n",
       "      <td>25.0</td>\n",
       "      <td>w</td>\n",
       "      <td>INDIVIDUAL</td>\n",
       "      <td>0.0</td>\n",
       "      <td>0.0</td>\n",
       "      <td>0174 Michelle Gateway\\r\\nMendozaberg, OK 22690</td>\n",
       "    </tr>\n",
       "    <tr>\n",
       "      <th>1</th>\n",
       "      <td>8000.0</td>\n",
       "      <td>36 months</td>\n",
       "      <td>11.99</td>\n",
       "      <td>265.68</td>\n",
       "      <td>B</td>\n",
       "      <td>B5</td>\n",
       "      <td>Credit analyst</td>\n",
       "      <td>4 years</td>\n",
       "      <td>MORTGAGE</td>\n",
       "      <td>65000.0</td>\n",
       "      <td>Not Verified</td>\n",
       "      <td>Jan-2015</td>\n",
       "      <td>Fully Paid</td>\n",
       "      <td>debt_consolidation</td>\n",
       "      <td>Debt consolidation</td>\n",
       "      <td>22.05</td>\n",
       "      <td>Jul-2004</td>\n",
       "      <td>17.0</td>\n",
       "      <td>0.0</td>\n",
       "      <td>20131.0</td>\n",
       "      <td>53.3</td>\n",
       "      <td>27.0</td>\n",
       "      <td>f</td>\n",
       "      <td>INDIVIDUAL</td>\n",
       "      <td>3.0</td>\n",
       "      <td>0.0</td>\n",
       "      <td>1076 Carney Fort Apt. 347\\r\\nLoganmouth, SD 05113</td>\n",
       "    </tr>\n",
       "    <tr>\n",
       "      <th>2</th>\n",
       "      <td>15600.0</td>\n",
       "      <td>36 months</td>\n",
       "      <td>10.49</td>\n",
       "      <td>506.97</td>\n",
       "      <td>B</td>\n",
       "      <td>B3</td>\n",
       "      <td>Statistician</td>\n",
       "      <td>&lt; 1 year</td>\n",
       "      <td>RENT</td>\n",
       "      <td>43057.0</td>\n",
       "      <td>Source Verified</td>\n",
       "      <td>Jan-2015</td>\n",
       "      <td>Fully Paid</td>\n",
       "      <td>credit_card</td>\n",
       "      <td>Credit card refinancing</td>\n",
       "      <td>12.79</td>\n",
       "      <td>Aug-2007</td>\n",
       "      <td>13.0</td>\n",
       "      <td>0.0</td>\n",
       "      <td>11987.0</td>\n",
       "      <td>92.2</td>\n",
       "      <td>26.0</td>\n",
       "      <td>f</td>\n",
       "      <td>INDIVIDUAL</td>\n",
       "      <td>0.0</td>\n",
       "      <td>0.0</td>\n",
       "      <td>87025 Mark Dale Apt. 269\\r\\nNew Sabrina, WV 05113</td>\n",
       "    </tr>\n",
       "    <tr>\n",
       "      <th>3</th>\n",
       "      <td>7200.0</td>\n",
       "      <td>36 months</td>\n",
       "      <td>6.49</td>\n",
       "      <td>220.65</td>\n",
       "      <td>A</td>\n",
       "      <td>A2</td>\n",
       "      <td>Client Advocate</td>\n",
       "      <td>6 years</td>\n",
       "      <td>RENT</td>\n",
       "      <td>54000.0</td>\n",
       "      <td>Not Verified</td>\n",
       "      <td>Nov-2014</td>\n",
       "      <td>Fully Paid</td>\n",
       "      <td>credit_card</td>\n",
       "      <td>Credit card refinancing</td>\n",
       "      <td>2.60</td>\n",
       "      <td>Sep-2006</td>\n",
       "      <td>6.0</td>\n",
       "      <td>0.0</td>\n",
       "      <td>5472.0</td>\n",
       "      <td>21.5</td>\n",
       "      <td>13.0</td>\n",
       "      <td>f</td>\n",
       "      <td>INDIVIDUAL</td>\n",
       "      <td>0.0</td>\n",
       "      <td>0.0</td>\n",
       "      <td>823 Reid Ford\\r\\nDelacruzside, MA 00813</td>\n",
       "    </tr>\n",
       "    <tr>\n",
       "      <th>4</th>\n",
       "      <td>24375.0</td>\n",
       "      <td>60 months</td>\n",
       "      <td>17.27</td>\n",
       "      <td>609.33</td>\n",
       "      <td>C</td>\n",
       "      <td>C5</td>\n",
       "      <td>Destiny Management Inc.</td>\n",
       "      <td>9 years</td>\n",
       "      <td>MORTGAGE</td>\n",
       "      <td>55000.0</td>\n",
       "      <td>Verified</td>\n",
       "      <td>Apr-2013</td>\n",
       "      <td>Charged Off</td>\n",
       "      <td>credit_card</td>\n",
       "      <td>Credit Card Refinance</td>\n",
       "      <td>33.95</td>\n",
       "      <td>Mar-1999</td>\n",
       "      <td>13.0</td>\n",
       "      <td>0.0</td>\n",
       "      <td>24584.0</td>\n",
       "      <td>69.8</td>\n",
       "      <td>43.0</td>\n",
       "      <td>f</td>\n",
       "      <td>INDIVIDUAL</td>\n",
       "      <td>1.0</td>\n",
       "      <td>0.0</td>\n",
       "      <td>679 Luna Roads\\r\\nGreggshire, VA 11650</td>\n",
       "    </tr>\n",
       "  </tbody>\n",
       "</table>\n",
       "</div>"
      ],
      "text/plain": [
       "   loan_amnt        term  int_rate  installment grade sub_grade  \\\n",
       "0    10000.0   36 months     11.44       329.48     B        B4   \n",
       "1     8000.0   36 months     11.99       265.68     B        B5   \n",
       "2    15600.0   36 months     10.49       506.97     B        B3   \n",
       "3     7200.0   36 months      6.49       220.65     A        A2   \n",
       "4    24375.0   60 months     17.27       609.33     C        C5   \n",
       "\n",
       "                 emp_title emp_length home_ownership  annual_inc  \\\n",
       "0                Marketing  10+ years           RENT    117000.0   \n",
       "1          Credit analyst     4 years       MORTGAGE     65000.0   \n",
       "2             Statistician   < 1 year           RENT     43057.0   \n",
       "3          Client Advocate    6 years           RENT     54000.0   \n",
       "4  Destiny Management Inc.    9 years       MORTGAGE     55000.0   \n",
       "\n",
       "  verification_status   issue_d  loan_status             purpose  \\\n",
       "0        Not Verified  Jan-2015   Fully Paid            vacation   \n",
       "1        Not Verified  Jan-2015   Fully Paid  debt_consolidation   \n",
       "2     Source Verified  Jan-2015   Fully Paid         credit_card   \n",
       "3        Not Verified  Nov-2014   Fully Paid         credit_card   \n",
       "4            Verified  Apr-2013  Charged Off         credit_card   \n",
       "\n",
       "                     title    dti earliest_cr_line  open_acc  pub_rec  \\\n",
       "0                 Vacation  26.24         Jun-1990      16.0      0.0   \n",
       "1       Debt consolidation  22.05         Jul-2004      17.0      0.0   \n",
       "2  Credit card refinancing  12.79         Aug-2007      13.0      0.0   \n",
       "3  Credit card refinancing   2.60         Sep-2006       6.0      0.0   \n",
       "4    Credit Card Refinance  33.95         Mar-1999      13.0      0.0   \n",
       "\n",
       "   revol_bal  revol_util  total_acc initial_list_status application_type  \\\n",
       "0    36369.0        41.8       25.0                   w       INDIVIDUAL   \n",
       "1    20131.0        53.3       27.0                   f       INDIVIDUAL   \n",
       "2    11987.0        92.2       26.0                   f       INDIVIDUAL   \n",
       "3     5472.0        21.5       13.0                   f       INDIVIDUAL   \n",
       "4    24584.0        69.8       43.0                   f       INDIVIDUAL   \n",
       "\n",
       "   mort_acc  pub_rec_bankruptcies  \\\n",
       "0       0.0                   0.0   \n",
       "1       3.0                   0.0   \n",
       "2       0.0                   0.0   \n",
       "3       0.0                   0.0   \n",
       "4       1.0                   0.0   \n",
       "\n",
       "                                             address  \n",
       "0     0174 Michelle Gateway\\r\\nMendozaberg, OK 22690  \n",
       "1  1076 Carney Fort Apt. 347\\r\\nLoganmouth, SD 05113  \n",
       "2  87025 Mark Dale Apt. 269\\r\\nNew Sabrina, WV 05113  \n",
       "3            823 Reid Ford\\r\\nDelacruzside, MA 00813  \n",
       "4             679 Luna Roads\\r\\nGreggshire, VA 11650  "
      ]
     },
     "execution_count": 88,
     "metadata": {},
     "output_type": "execute_result"
    }
   ],
   "source": [
    "loan_data.head()"
   ]
  },
  {
   "cell_type": "code",
   "execution_count": 104,
   "id": "def3c96c",
   "metadata": {},
   "outputs": [
    {
     "name": "stdout",
     "output_type": "stream",
     "text": [
      "+-------------+--------------------+\n",
      "| Column Name | Missing Values Sum |\n",
      "+-------------+--------------------+\n",
      "+-------------+--------------------+\n"
     ]
    }
   ],
   "source": [
    "x = PrettyTable()\n",
    "x.field_names = [\"Column Name\", \"Missing Values Sum\"]\n",
    "\n",
    "for col in loan_data.columns:\n",
    "    missing_val = loan_data[col].isna().sum()\n",
    "    if missing_val > 0:\n",
    "        x.add_row([col, missing_val])\n",
    "\n",
    "print(x)"
   ]
  },
  {
   "cell_type": "code",
   "execution_count": 105,
   "id": "8f3f9ac6",
   "metadata": {},
   "outputs": [
    {
     "name": "stdout",
     "output_type": "stream",
     "text": [
      "╔══════════════════════════════════╗\n",
      "║ Column Name   Missing Values Sum ║\n",
      "╟──────────────────────────────────╢\n",
      "╚══════════════════════════════════╝\n"
     ]
    }
   ],
   "source": [
    "body_list = []\n",
    "\n",
    "for col in loan_data.columns:\n",
    "    missing_val = loan_data[col].isna().sum()\n",
    "    if missing_val > 0:\n",
    "        body_list.append([col, missing_val])\n",
    "\n",
    "output = table2ascii(\n",
    "    header=[\"Column Name\", \"Missing Values Sum\"],\n",
    "    body=body_list)\n",
    "\n",
    "print(output)"
   ]
  },
  {
   "cell_type": "markdown",
   "id": "71509008",
   "metadata": {},
   "source": [
    "All the missing values have been filled based on their respective data types."
   ]
  },
  {
   "cell_type": "markdown",
   "id": "345e918c",
   "metadata": {},
   "source": [
    "## Feature Engineering"
   ]
  },
  {
   "cell_type": "markdown",
   "id": "b80e97f6",
   "metadata": {},
   "source": [
    "## Extracting features from Address\n",
    "\n",
    "Extracting more features form **Address** such as **place**, **state**, **pin_code**"
   ]
  },
  {
   "cell_type": "code",
   "execution_count": 106,
   "id": "c68200f0",
   "metadata": {},
   "outputs": [],
   "source": [
    "def extract_address_information(row):\n",
    "    if row[\"address\"] == None:\n",
    "        row[\"place\"], row[\"some_abbr\"], row[\"pin_code\"] = None, None, None\n",
    "        return row\n",
    "    \n",
    "    row_addr = row[\"address\"]\n",
    "\n",
    "    row_data = row_addr.split(\"\\r\\n\")[-1]\n",
    "\n",
    "    row_data = row_data.split(\", \")\n",
    "    \n",
    "    row[\"place\"] = row_data[0]\n",
    "    \n",
    "    row_data = row_data[-1]\n",
    "    row_data = row_data.split(\" \")\n",
    "    \n",
    "    row[\"some_abbr\"] = row_data[0]\n",
    "    \n",
    "    row[\"pin_code\"] = row_data[-1]\n",
    "\n",
    "    return row"
   ]
  },
  {
   "cell_type": "code",
   "execution_count": null,
   "id": "7b4838e8",
   "metadata": {},
   "outputs": [],
   "source": [
    "loan_data = loan_data.apply(extract_address_information, axis=1)\n",
    "# loan_data.head()"
   ]
  },
  {
   "cell_type": "code",
   "execution_count": 3,
   "id": "542b9a8c",
   "metadata": {},
   "outputs": [],
   "source": [
    "# loan_data.describe()"
   ]
  },
  {
   "cell_type": "code",
   "execution_count": 110,
   "id": "95dfc85e",
   "metadata": {},
   "outputs": [
    {
     "data": {
      "text/plain": [
       "loan_status\n",
       "Fully Paid     16501\n",
       "Charged Off     3982\n",
       "dtype: int64"
      ]
     },
     "execution_count": 110,
     "metadata": {},
     "output_type": "execute_result"
    }
   ],
   "source": [
    "loan_data[[\"loan_status\"]].value_counts()"
   ]
  },
  {
   "cell_type": "markdown",
   "id": "c383ce37",
   "metadata": {},
   "source": [
    "Converting the below mentioned features into boolean data types to contain values 0, 1"
   ]
  },
  {
   "cell_type": "code",
   "execution_count": 111,
   "id": "d626995e",
   "metadata": {
    "collapsed": true
   },
   "outputs": [
    {
     "data": {
      "text/plain": [
       "0.0     17471\n",
       "1.0      2612\n",
       "2.0       259\n",
       "3.0        83\n",
       "4.0        30\n",
       "5.0        15\n",
       "6.0         5\n",
       "8.0         4\n",
       "9.0         1\n",
       "10.0        1\n",
       "11.0        1\n",
       "7.0         1\n",
       "Name: pub_rec, dtype: int64"
      ]
     },
     "execution_count": 111,
     "metadata": {},
     "output_type": "execute_result"
    }
   ],
   "source": [
    "loan_data[\"pub_rec\"].value_counts()"
   ]
  },
  {
   "cell_type": "code",
   "execution_count": 112,
   "id": "262c2573",
   "metadata": {
    "collapsed": true
   },
   "outputs": [
    {
     "data": {
      "text/plain": [
       "0.0     9248\n",
       "1.0     3141\n",
       "2.0     2587\n",
       "3.0     1927\n",
       "4.0     1415\n",
       "5.0      924\n",
       "6.0      603\n",
       "7.0      303\n",
       "8.0      159\n",
       "9.0       87\n",
       "10.0      44\n",
       "11.0      16\n",
       "12.0      15\n",
       "14.0       4\n",
       "13.0       3\n",
       "15.0       2\n",
       "19.0       2\n",
       "22.0       1\n",
       "34.0       1\n",
       "25.0       1\n",
       "Name: mort_acc, dtype: int64"
      ]
     },
     "execution_count": 112,
     "metadata": {},
     "output_type": "execute_result"
    }
   ],
   "source": [
    "loan_data[\"mort_acc\"].value_counts()"
   ]
  },
  {
   "cell_type": "code",
   "execution_count": 113,
   "id": "9c059152",
   "metadata": {
    "collapsed": true
   },
   "outputs": [
    {
     "data": {
      "text/plain": [
       "0.0    18133\n",
       "1.0     2246\n",
       "2.0       82\n",
       "3.0       14\n",
       "4.0        6\n",
       "5.0        2\n",
       "Name: pub_rec_bankruptcies, dtype: int64"
      ]
     },
     "execution_count": 113,
     "metadata": {},
     "output_type": "execute_result"
    }
   ],
   "source": [
    "loan_data[\"pub_rec_bankruptcies\"].value_counts()"
   ]
  },
  {
   "cell_type": "code",
   "execution_count": null,
   "id": "05bb9c27",
   "metadata": {},
   "outputs": [],
   "source": [
    "# loan_data_rep = loan_data.replace({'loan_status' : { 'Fully Paid' : 1, 'Charged Off' : 0}})\n",
    "loan_data[\"loan_status_int\"] = loan_data['loan_status'].apply(lambda x: 1 if x == 'Fully Paid' else 0)\n",
    "loan_data['pub_rec_flag'] = loan_data['pub_rec'].apply(lambda x: 1 if x > 0 else 0)\n",
    "loan_data['mort_acc_flag'] = loan_data['mort_acc'].apply(lambda x: 1 if x > 0 else 0)\n",
    "loan_data['pub_rec_bankruptcies_flag'] = loan_data['pub_rec_bankruptcies'].apply(lambda x: 1 if x > 0 else 0)\n",
    "# loan_data.head()"
   ]
  },
  {
   "cell_type": "markdown",
   "id": "7374e5a0",
   "metadata": {},
   "source": [
    "## Correlation Map"
   ]
  },
  {
   "cell_type": "code",
   "execution_count": 116,
   "id": "3fcda35d",
   "metadata": {},
   "outputs": [
    {
     "data": {
      "text/html": [
       "<div>\n",
       "<style scoped>\n",
       "    .dataframe tbody tr th:only-of-type {\n",
       "        vertical-align: middle;\n",
       "    }\n",
       "\n",
       "    .dataframe tbody tr th {\n",
       "        vertical-align: top;\n",
       "    }\n",
       "\n",
       "    .dataframe thead th {\n",
       "        text-align: right;\n",
       "    }\n",
       "</style>\n",
       "<table border=\"1\" class=\"dataframe\">\n",
       "  <thead>\n",
       "    <tr style=\"text-align: right;\">\n",
       "      <th></th>\n",
       "      <th>loan_amnt</th>\n",
       "      <th>int_rate</th>\n",
       "      <th>installment</th>\n",
       "      <th>annual_inc</th>\n",
       "      <th>dti</th>\n",
       "      <th>open_acc</th>\n",
       "      <th>pub_rec</th>\n",
       "      <th>revol_bal</th>\n",
       "      <th>revol_util</th>\n",
       "      <th>total_acc</th>\n",
       "      <th>mort_acc</th>\n",
       "      <th>pub_rec_bankruptcies</th>\n",
       "      <th>loan_status_int</th>\n",
       "      <th>pub_rec_flag</th>\n",
       "      <th>mort_acc_flag</th>\n",
       "      <th>pub_rec_bankruptcies_flag</th>\n",
       "    </tr>\n",
       "  </thead>\n",
       "  <tbody>\n",
       "    <tr>\n",
       "      <th>loan_amnt</th>\n",
       "      <td>1.000000</td>\n",
       "      <td>0.170316</td>\n",
       "      <td>0.954408</td>\n",
       "      <td>0.310743</td>\n",
       "      <td>0.034441</td>\n",
       "      <td>0.181518</td>\n",
       "      <td>-0.074932</td>\n",
       "      <td>0.345148</td>\n",
       "      <td>0.094128</td>\n",
       "      <td>0.208868</td>\n",
       "      <td>0.236569</td>\n",
       "      <td>-0.105650</td>\n",
       "      <td>-0.058497</td>\n",
       "      <td>-0.103158</td>\n",
       "      <td>0.227783</td>\n",
       "      <td>-0.111774</td>\n",
       "    </tr>\n",
       "    <tr>\n",
       "      <th>int_rate</th>\n",
       "      <td>0.170316</td>\n",
       "      <td>1.000000</td>\n",
       "      <td>0.163108</td>\n",
       "      <td>-0.051408</td>\n",
       "      <td>0.187512</td>\n",
       "      <td>0.012053</td>\n",
       "      <td>0.067310</td>\n",
       "      <td>-0.005725</td>\n",
       "      <td>0.300361</td>\n",
       "      <td>-0.039008</td>\n",
       "      <td>-0.047878</td>\n",
       "      <td>0.065456</td>\n",
       "      <td>-0.244788</td>\n",
       "      <td>0.074604</td>\n",
       "      <td>-0.036057</td>\n",
       "      <td>0.063945</td>\n",
       "    </tr>\n",
       "    <tr>\n",
       "      <th>installment</th>\n",
       "      <td>0.954408</td>\n",
       "      <td>0.163108</td>\n",
       "      <td>1.000000</td>\n",
       "      <td>0.304948</td>\n",
       "      <td>0.030270</td>\n",
       "      <td>0.171901</td>\n",
       "      <td>-0.060770</td>\n",
       "      <td>0.333001</td>\n",
       "      <td>0.115256</td>\n",
       "      <td>0.186908</td>\n",
       "      <td>0.217088</td>\n",
       "      <td>-0.094616</td>\n",
       "      <td>-0.038852</td>\n",
       "      <td>-0.089730</td>\n",
       "      <td>0.206367</td>\n",
       "      <td>-0.100152</td>\n",
       "    </tr>\n",
       "    <tr>\n",
       "      <th>annual_inc</th>\n",
       "      <td>0.310743</td>\n",
       "      <td>-0.051408</td>\n",
       "      <td>0.304948</td>\n",
       "      <td>1.000000</td>\n",
       "      <td>-0.171364</td>\n",
       "      <td>0.113371</td>\n",
       "      <td>-0.017459</td>\n",
       "      <td>0.286687</td>\n",
       "      <td>0.035455</td>\n",
       "      <td>0.168257</td>\n",
       "      <td>0.210220</td>\n",
       "      <td>-0.046892</td>\n",
       "      <td>0.050677</td>\n",
       "      <td>-0.032364</td>\n",
       "      <td>0.185188</td>\n",
       "      <td>-0.048649</td>\n",
       "    </tr>\n",
       "    <tr>\n",
       "      <th>dti</th>\n",
       "      <td>0.034441</td>\n",
       "      <td>0.187512</td>\n",
       "      <td>0.030270</td>\n",
       "      <td>-0.171364</td>\n",
       "      <td>1.000000</td>\n",
       "      <td>0.307048</td>\n",
       "      <td>-0.035037</td>\n",
       "      <td>0.146270</td>\n",
       "      <td>0.189077</td>\n",
       "      <td>0.229003</td>\n",
       "      <td>-0.006426</td>\n",
       "      <td>-0.026444</td>\n",
       "      <td>-0.132639</td>\n",
       "      <td>-0.038679</td>\n",
       "      <td>0.025211</td>\n",
       "      <td>-0.029290</td>\n",
       "    </tr>\n",
       "    <tr>\n",
       "      <th>open_acc</th>\n",
       "      <td>0.181518</td>\n",
       "      <td>0.012053</td>\n",
       "      <td>0.171901</td>\n",
       "      <td>0.113371</td>\n",
       "      <td>0.307048</td>\n",
       "      <td>1.000000</td>\n",
       "      <td>-0.017712</td>\n",
       "      <td>0.236403</td>\n",
       "      <td>-0.128518</td>\n",
       "      <td>0.675346</td>\n",
       "      <td>0.133871</td>\n",
       "      <td>-0.033526</td>\n",
       "      <td>-0.021980</td>\n",
       "      <td>-0.026526</td>\n",
       "      <td>0.149111</td>\n",
       "      <td>-0.034504</td>\n",
       "    </tr>\n",
       "    <tr>\n",
       "      <th>pub_rec</th>\n",
       "      <td>-0.074932</td>\n",
       "      <td>0.067310</td>\n",
       "      <td>-0.060770</td>\n",
       "      <td>-0.017459</td>\n",
       "      <td>-0.035037</td>\n",
       "      <td>-0.017712</td>\n",
       "      <td>1.000000</td>\n",
       "      <td>-0.118680</td>\n",
       "      <td>-0.091282</td>\n",
       "      <td>0.021283</td>\n",
       "      <td>0.027668</td>\n",
       "      <td>0.717511</td>\n",
       "      <td>-0.022618</td>\n",
       "      <td>0.842812</td>\n",
       "      <td>0.064011</td>\n",
       "      <td>0.682390</td>\n",
       "    </tr>\n",
       "    <tr>\n",
       "      <th>revol_bal</th>\n",
       "      <td>0.345148</td>\n",
       "      <td>-0.005725</td>\n",
       "      <td>0.333001</td>\n",
       "      <td>0.286687</td>\n",
       "      <td>0.146270</td>\n",
       "      <td>0.236403</td>\n",
       "      <td>-0.118680</td>\n",
       "      <td>1.000000</td>\n",
       "      <td>0.253559</td>\n",
       "      <td>0.206266</td>\n",
       "      <td>0.210520</td>\n",
       "      <td>-0.135554</td>\n",
       "      <td>0.013890</td>\n",
       "      <td>-0.140717</td>\n",
       "      <td>0.175822</td>\n",
       "      <td>-0.139782</td>\n",
       "    </tr>\n",
       "    <tr>\n",
       "      <th>revol_util</th>\n",
       "      <td>0.094128</td>\n",
       "      <td>0.300361</td>\n",
       "      <td>0.115256</td>\n",
       "      <td>0.035455</td>\n",
       "      <td>0.189077</td>\n",
       "      <td>-0.128518</td>\n",
       "      <td>-0.091282</td>\n",
       "      <td>0.253559</td>\n",
       "      <td>1.000000</td>\n",
       "      <td>-0.102076</td>\n",
       "      <td>0.025145</td>\n",
       "      <td>-0.092900</td>\n",
       "      <td>-0.088610</td>\n",
       "      <td>-0.097000</td>\n",
       "      <td>0.028882</td>\n",
       "      <td>-0.090852</td>\n",
       "    </tr>\n",
       "    <tr>\n",
       "      <th>total_acc</th>\n",
       "      <td>0.208868</td>\n",
       "      <td>-0.039008</td>\n",
       "      <td>0.186908</td>\n",
       "      <td>0.168257</td>\n",
       "      <td>0.229003</td>\n",
       "      <td>0.675346</td>\n",
       "      <td>0.021283</td>\n",
       "      <td>0.206266</td>\n",
       "      <td>-0.102076</td>\n",
       "      <td>1.000000</td>\n",
       "      <td>0.378905</td>\n",
       "      <td>0.039978</td>\n",
       "      <td>0.022511</td>\n",
       "      <td>0.029642</td>\n",
       "      <td>0.308969</td>\n",
       "      <td>0.040157</td>\n",
       "    </tr>\n",
       "    <tr>\n",
       "      <th>mort_acc</th>\n",
       "      <td>0.236569</td>\n",
       "      <td>-0.047878</td>\n",
       "      <td>0.217088</td>\n",
       "      <td>0.210220</td>\n",
       "      <td>-0.006426</td>\n",
       "      <td>0.133871</td>\n",
       "      <td>0.027668</td>\n",
       "      <td>0.210520</td>\n",
       "      <td>0.025145</td>\n",
       "      <td>0.378905</td>\n",
       "      <td>1.000000</td>\n",
       "      <td>0.047211</td>\n",
       "      <td>0.059425</td>\n",
       "      <td>0.041198</td>\n",
       "      <td>0.702818</td>\n",
       "      <td>0.049027</td>\n",
       "    </tr>\n",
       "    <tr>\n",
       "      <th>pub_rec_bankruptcies</th>\n",
       "      <td>-0.105650</td>\n",
       "      <td>0.065456</td>\n",
       "      <td>-0.094616</td>\n",
       "      <td>-0.046892</td>\n",
       "      <td>-0.026444</td>\n",
       "      <td>-0.033526</td>\n",
       "      <td>0.717511</td>\n",
       "      <td>-0.135554</td>\n",
       "      <td>-0.092900</td>\n",
       "      <td>0.039978</td>\n",
       "      <td>0.047211</td>\n",
       "      <td>1.000000</td>\n",
       "      <td>-0.019850</td>\n",
       "      <td>0.829380</td>\n",
       "      <td>0.074995</td>\n",
       "      <td>0.956584</td>\n",
       "    </tr>\n",
       "    <tr>\n",
       "      <th>loan_status_int</th>\n",
       "      <td>-0.058497</td>\n",
       "      <td>-0.244788</td>\n",
       "      <td>-0.038852</td>\n",
       "      <td>0.050677</td>\n",
       "      <td>-0.132639</td>\n",
       "      <td>-0.021980</td>\n",
       "      <td>-0.022618</td>\n",
       "      <td>0.013890</td>\n",
       "      <td>-0.088610</td>\n",
       "      <td>0.022511</td>\n",
       "      <td>0.059425</td>\n",
       "      <td>-0.019850</td>\n",
       "      <td>1.000000</td>\n",
       "      <td>-0.023496</td>\n",
       "      <td>0.059779</td>\n",
       "      <td>-0.015541</td>\n",
       "    </tr>\n",
       "    <tr>\n",
       "      <th>pub_rec_flag</th>\n",
       "      <td>-0.103158</td>\n",
       "      <td>0.074604</td>\n",
       "      <td>-0.089730</td>\n",
       "      <td>-0.032364</td>\n",
       "      <td>-0.038679</td>\n",
       "      <td>-0.026526</td>\n",
       "      <td>0.842812</td>\n",
       "      <td>-0.140717</td>\n",
       "      <td>-0.097000</td>\n",
       "      <td>0.029642</td>\n",
       "      <td>0.041198</td>\n",
       "      <td>0.829380</td>\n",
       "      <td>-0.023496</td>\n",
       "      <td>1.000000</td>\n",
       "      <td>0.078091</td>\n",
       "      <td>0.867023</td>\n",
       "    </tr>\n",
       "    <tr>\n",
       "      <th>mort_acc_flag</th>\n",
       "      <td>0.227783</td>\n",
       "      <td>-0.036057</td>\n",
       "      <td>0.206367</td>\n",
       "      <td>0.185188</td>\n",
       "      <td>0.025211</td>\n",
       "      <td>0.149111</td>\n",
       "      <td>0.064011</td>\n",
       "      <td>0.175822</td>\n",
       "      <td>0.028882</td>\n",
       "      <td>0.308969</td>\n",
       "      <td>0.702818</td>\n",
       "      <td>0.074995</td>\n",
       "      <td>0.059779</td>\n",
       "      <td>0.078091</td>\n",
       "      <td>1.000000</td>\n",
       "      <td>0.077271</td>\n",
       "    </tr>\n",
       "    <tr>\n",
       "      <th>pub_rec_bankruptcies_flag</th>\n",
       "      <td>-0.111774</td>\n",
       "      <td>0.063945</td>\n",
       "      <td>-0.100152</td>\n",
       "      <td>-0.048649</td>\n",
       "      <td>-0.029290</td>\n",
       "      <td>-0.034504</td>\n",
       "      <td>0.682390</td>\n",
       "      <td>-0.139782</td>\n",
       "      <td>-0.090852</td>\n",
       "      <td>0.040157</td>\n",
       "      <td>0.049027</td>\n",
       "      <td>0.956584</td>\n",
       "      <td>-0.015541</td>\n",
       "      <td>0.867023</td>\n",
       "      <td>0.077271</td>\n",
       "      <td>1.000000</td>\n",
       "    </tr>\n",
       "  </tbody>\n",
       "</table>\n",
       "</div>"
      ],
      "text/plain": [
       "                           loan_amnt  int_rate  installment  annual_inc  \\\n",
       "loan_amnt                   1.000000  0.170316     0.954408    0.310743   \n",
       "int_rate                    0.170316  1.000000     0.163108   -0.051408   \n",
       "installment                 0.954408  0.163108     1.000000    0.304948   \n",
       "annual_inc                  0.310743 -0.051408     0.304948    1.000000   \n",
       "dti                         0.034441  0.187512     0.030270   -0.171364   \n",
       "open_acc                    0.181518  0.012053     0.171901    0.113371   \n",
       "pub_rec                    -0.074932  0.067310    -0.060770   -0.017459   \n",
       "revol_bal                   0.345148 -0.005725     0.333001    0.286687   \n",
       "revol_util                  0.094128  0.300361     0.115256    0.035455   \n",
       "total_acc                   0.208868 -0.039008     0.186908    0.168257   \n",
       "mort_acc                    0.236569 -0.047878     0.217088    0.210220   \n",
       "pub_rec_bankruptcies       -0.105650  0.065456    -0.094616   -0.046892   \n",
       "loan_status_int            -0.058497 -0.244788    -0.038852    0.050677   \n",
       "pub_rec_flag               -0.103158  0.074604    -0.089730   -0.032364   \n",
       "mort_acc_flag               0.227783 -0.036057     0.206367    0.185188   \n",
       "pub_rec_bankruptcies_flag  -0.111774  0.063945    -0.100152   -0.048649   \n",
       "\n",
       "                                dti  open_acc   pub_rec  revol_bal  \\\n",
       "loan_amnt                  0.034441  0.181518 -0.074932   0.345148   \n",
       "int_rate                   0.187512  0.012053  0.067310  -0.005725   \n",
       "installment                0.030270  0.171901 -0.060770   0.333001   \n",
       "annual_inc                -0.171364  0.113371 -0.017459   0.286687   \n",
       "dti                        1.000000  0.307048 -0.035037   0.146270   \n",
       "open_acc                   0.307048  1.000000 -0.017712   0.236403   \n",
       "pub_rec                   -0.035037 -0.017712  1.000000  -0.118680   \n",
       "revol_bal                  0.146270  0.236403 -0.118680   1.000000   \n",
       "revol_util                 0.189077 -0.128518 -0.091282   0.253559   \n",
       "total_acc                  0.229003  0.675346  0.021283   0.206266   \n",
       "mort_acc                  -0.006426  0.133871  0.027668   0.210520   \n",
       "pub_rec_bankruptcies      -0.026444 -0.033526  0.717511  -0.135554   \n",
       "loan_status_int           -0.132639 -0.021980 -0.022618   0.013890   \n",
       "pub_rec_flag              -0.038679 -0.026526  0.842812  -0.140717   \n",
       "mort_acc_flag              0.025211  0.149111  0.064011   0.175822   \n",
       "pub_rec_bankruptcies_flag -0.029290 -0.034504  0.682390  -0.139782   \n",
       "\n",
       "                           revol_util  total_acc  mort_acc  \\\n",
       "loan_amnt                    0.094128   0.208868  0.236569   \n",
       "int_rate                     0.300361  -0.039008 -0.047878   \n",
       "installment                  0.115256   0.186908  0.217088   \n",
       "annual_inc                   0.035455   0.168257  0.210220   \n",
       "dti                          0.189077   0.229003 -0.006426   \n",
       "open_acc                    -0.128518   0.675346  0.133871   \n",
       "pub_rec                     -0.091282   0.021283  0.027668   \n",
       "revol_bal                    0.253559   0.206266  0.210520   \n",
       "revol_util                   1.000000  -0.102076  0.025145   \n",
       "total_acc                   -0.102076   1.000000  0.378905   \n",
       "mort_acc                     0.025145   0.378905  1.000000   \n",
       "pub_rec_bankruptcies        -0.092900   0.039978  0.047211   \n",
       "loan_status_int             -0.088610   0.022511  0.059425   \n",
       "pub_rec_flag                -0.097000   0.029642  0.041198   \n",
       "mort_acc_flag                0.028882   0.308969  0.702818   \n",
       "pub_rec_bankruptcies_flag   -0.090852   0.040157  0.049027   \n",
       "\n",
       "                           pub_rec_bankruptcies  loan_status_int  \\\n",
       "loan_amnt                             -0.105650        -0.058497   \n",
       "int_rate                               0.065456        -0.244788   \n",
       "installment                           -0.094616        -0.038852   \n",
       "annual_inc                            -0.046892         0.050677   \n",
       "dti                                   -0.026444        -0.132639   \n",
       "open_acc                              -0.033526        -0.021980   \n",
       "pub_rec                                0.717511        -0.022618   \n",
       "revol_bal                             -0.135554         0.013890   \n",
       "revol_util                            -0.092900        -0.088610   \n",
       "total_acc                              0.039978         0.022511   \n",
       "mort_acc                               0.047211         0.059425   \n",
       "pub_rec_bankruptcies                   1.000000        -0.019850   \n",
       "loan_status_int                       -0.019850         1.000000   \n",
       "pub_rec_flag                           0.829380        -0.023496   \n",
       "mort_acc_flag                          0.074995         0.059779   \n",
       "pub_rec_bankruptcies_flag              0.956584        -0.015541   \n",
       "\n",
       "                           pub_rec_flag  mort_acc_flag  \\\n",
       "loan_amnt                     -0.103158       0.227783   \n",
       "int_rate                       0.074604      -0.036057   \n",
       "installment                   -0.089730       0.206367   \n",
       "annual_inc                    -0.032364       0.185188   \n",
       "dti                           -0.038679       0.025211   \n",
       "open_acc                      -0.026526       0.149111   \n",
       "pub_rec                        0.842812       0.064011   \n",
       "revol_bal                     -0.140717       0.175822   \n",
       "revol_util                    -0.097000       0.028882   \n",
       "total_acc                      0.029642       0.308969   \n",
       "mort_acc                       0.041198       0.702818   \n",
       "pub_rec_bankruptcies           0.829380       0.074995   \n",
       "loan_status_int               -0.023496       0.059779   \n",
       "pub_rec_flag                   1.000000       0.078091   \n",
       "mort_acc_flag                  0.078091       1.000000   \n",
       "pub_rec_bankruptcies_flag      0.867023       0.077271   \n",
       "\n",
       "                           pub_rec_bankruptcies_flag  \n",
       "loan_amnt                                  -0.111774  \n",
       "int_rate                                    0.063945  \n",
       "installment                                -0.100152  \n",
       "annual_inc                                 -0.048649  \n",
       "dti                                        -0.029290  \n",
       "open_acc                                   -0.034504  \n",
       "pub_rec                                     0.682390  \n",
       "revol_bal                                  -0.139782  \n",
       "revol_util                                 -0.090852  \n",
       "total_acc                                   0.040157  \n",
       "mort_acc                                    0.049027  \n",
       "pub_rec_bankruptcies                        0.956584  \n",
       "loan_status_int                            -0.015541  \n",
       "pub_rec_flag                                0.867023  \n",
       "mort_acc_flag                               0.077271  \n",
       "pub_rec_bankruptcies_flag                   1.000000  "
      ]
     },
     "execution_count": 116,
     "metadata": {},
     "output_type": "execute_result"
    }
   ],
   "source": [
    "loan_data.corr()"
   ]
  },
  {
   "cell_type": "code",
   "execution_count": 117,
   "id": "bae232c9",
   "metadata": {},
   "outputs": [
    {
     "data": {
      "image/png": "[encoded data removed]",
      "text/plain": [
       "<Figure size 864x864 with 2 Axes>"
      ]
     },
     "metadata": {
      "needs_background": "light"
     },
     "output_type": "display_data"
    }
   ],
   "source": [
    "mp.figure(figsize=(12,12))\n",
    "ax = sns.heatmap(loan_data.corr(), annot=True)"
   ]
  },
  {
   "cell_type": "markdown",
   "id": "39f066a1",
   "metadata": {},
   "source": [
    "The **loan_status** is not significantly but somewhat negatively correlated with the **interest rate**."
   ]
  },
  {
   "cell_type": "markdown",
   "id": "2e318726",
   "metadata": {},
   "source": [
    "## Duplicate Values"
   ]
  },
  {
   "cell_type": "code",
   "execution_count": 118,
   "id": "62bbdb66",
   "metadata": {},
   "outputs": [
    {
     "data": {
      "text/plain": [
       "0"
      ]
     },
     "execution_count": 118,
     "metadata": {},
     "output_type": "execute_result"
    }
   ],
   "source": [
    "loan_data.duplicated().sum()"
   ]
  },
  {
   "cell_type": "markdown",
   "id": "2bfa55dc",
   "metadata": {},
   "source": [
    "There are no duplicated values."
   ]
  },
  {
   "cell_type": "markdown",
   "id": "bdf64d9e",
   "metadata": {},
   "source": [
    "## Outliers Detection and Removal"
   ]
  },
  {
   "cell_type": "code",
   "execution_count": 120,
   "id": "5bf88123",
   "metadata": {
    "collapsed": true
   },
   "outputs": [
    {
     "data": {
      "text/plain": [
       "loan_amnt                    float64\n",
       "term                          object\n",
       "int_rate                     float64\n",
       "installment                  float64\n",
       "grade                         object\n",
       "sub_grade                     object\n",
       "emp_title                     object\n",
       "emp_length                    object\n",
       "home_ownership                object\n",
       "annual_inc                   float64\n",
       "verification_status           object\n",
       "issue_d                       object\n",
       "loan_status                   object\n",
       "purpose                       object\n",
       "title                         object\n",
       "dti                          float64\n",
       "earliest_cr_line              object\n",
       "open_acc                     float64\n",
       "pub_rec                      float64\n",
       "revol_bal                    float64\n",
       "revol_util                   float64\n",
       "total_acc                    float64\n",
       "initial_list_status           object\n",
       "application_type              object\n",
       "mort_acc                     float64\n",
       "pub_rec_bankruptcies         float64\n",
       "address                       object\n",
       "place                         object\n",
       "some_abbr                     object\n",
       "pin_code                      object\n",
       "loan_status_int                int64\n",
       "pub_rec_flag                   int64\n",
       "mort_acc_flag                  int64\n",
       "pub_rec_bankruptcies_flag      int64\n",
       "dtype: object"
      ]
     },
     "execution_count": 120,
     "metadata": {},
     "output_type": "execute_result"
    }
   ],
   "source": [
    "loan_data.dtypes"
   ]
  },
  {
   "cell_type": "code",
   "execution_count": 121,
   "id": "f824f3a2",
   "metadata": {},
   "outputs": [],
   "source": [
    "ctg_cols = [\"grade\", \"sub_grade\", \"emp_length\", \"home_ownership\", \"verification_status\", \"purpose\", \"application_type\"]\n",
    "loan_data[ctg_cols] = loan_data[ctg_cols].astype('category')"
   ]
  },
  {
   "cell_type": "code",
   "execution_count": 122,
   "id": "f0b3f72d",
   "metadata": {},
   "outputs": [
    {
     "data": {
      "image/png": "[encoded data removed]",
      "text/plain": [
       "<Figure size 1440x2160 with 7 Axes>"
      ]
     },
     "metadata": {
      "needs_background": "light"
     },
     "output_type": "display_data"
    }
   ],
   "source": [
    "# Boxplots to analyse the relationship between categorical variables and Chance of Admit\n",
    "\n",
    "cat_cols = loan_data.select_dtypes(include=['bool','category']).columns.tolist()\n",
    "# print(cat_cols)\n",
    "\n",
    "mp.figure(figsize=(20, 30))\n",
    "i=1\n",
    "for col in cat_cols:\n",
    "    ax = mp.subplot(4,2,i)\n",
    "    sns.boxplot(data = loan_data, x=col, y='loan_status_int')\n",
    "    mp.title(f\"Impact of {col} on Loan Status\", fontsize=10)\n",
    "    mp.xlabel(col)\n",
    "    mp.xticks(rotation = 90)\n",
    "    mp.ylabel('Loan Status')\n",
    "    i+=1\n",
    "\n",
    "mp.tight_layout()\n",
    "mp.show();"
   ]
  },
  {
   "cell_type": "markdown",
   "id": "3e4b25cc",
   "metadata": {},
   "source": [
    "There are many outliers in the above categorical variables.\n",
    "\n",
    "These outliers might not actually be outliers since there is a clear imbalance between the Loan Status values."
   ]
  },
  {
   "cell_type": "markdown",
   "id": "5a555ad8",
   "metadata": {},
   "source": [
    "### Drop Columns"
   ]
  },
  {
   "cell_type": "code",
   "execution_count": 129,
   "id": "b2ecd514",
   "metadata": {},
   "outputs": [],
   "source": [
    "loan_data.drop([\"address\", \"loan_status\", \"pub_rec\", \"mort_acc\", \"pub_rec_bankruptcies\"], axis = 1, inplace = True)"
   ]
  },
  {
   "cell_type": "markdown",
   "id": "052c9ff5",
   "metadata": {},
   "source": [
    "## Encoding columns (Target Encoding)"
   ]
  },
  {
   "cell_type": "code",
   "execution_count": 170,
   "id": "9e7140b2",
   "metadata": {},
   "outputs": [],
   "source": [
    "encode_cols = [\"grade\",\n",
    "               \"sub_grade\",\n",
    "               \"emp_title\",\n",
    "               \"emp_length\",\n",
    "               \"home_ownership\",\n",
    "               \"verification_status\",\n",
    "               \"issue_d\",\n",
    "               \"purpose\",\n",
    "               \"title\",\n",
    "               \"application_type\",\n",
    "               \"place\", \"some_abbr\", \"pin_code\",\n",
    "               \"earliest_cr_line\"]"
   ]
  },
  {
   "cell_type": "code",
   "execution_count": 171,
   "id": "4c8f4f4c",
   "metadata": {},
   "outputs": [
    {
     "data": {
      "text/html": [
       "<div>\n",
       "<style scoped>\n",
       "    .dataframe tbody tr th:only-of-type {\n",
       "        vertical-align: middle;\n",
       "    }\n",
       "\n",
       "    .dataframe tbody tr th {\n",
       "        vertical-align: top;\n",
       "    }\n",
       "\n",
       "    .dataframe thead th {\n",
       "        text-align: right;\n",
       "    }\n",
       "</style>\n",
       "<table border=\"1\" class=\"dataframe\">\n",
       "  <thead>\n",
       "    <tr style=\"text-align: right;\">\n",
       "      <th></th>\n",
       "      <th>grade</th>\n",
       "      <th>sub_grade</th>\n",
       "      <th>emp_title</th>\n",
       "      <th>emp_length</th>\n",
       "      <th>home_ownership</th>\n",
       "      <th>verification_status</th>\n",
       "      <th>issue_d</th>\n",
       "      <th>purpose</th>\n",
       "      <th>title</th>\n",
       "      <th>application_type</th>\n",
       "      <th>place</th>\n",
       "      <th>some_abbr</th>\n",
       "      <th>pin_code</th>\n",
       "      <th>earliest_cr_line</th>\n",
       "    </tr>\n",
       "  </thead>\n",
       "  <tbody>\n",
       "    <tr>\n",
       "      <th>0</th>\n",
       "      <td>B</td>\n",
       "      <td>B4</td>\n",
       "      <td>Marketing</td>\n",
       "      <td>10+ years</td>\n",
       "      <td>RENT</td>\n",
       "      <td>Not Verified</td>\n",
       "      <td>Jan-2015</td>\n",
       "      <td>vacation</td>\n",
       "      <td>Vacation</td>\n",
       "      <td>INDIVIDUAL</td>\n",
       "      <td>Mendozaberg</td>\n",
       "      <td>OK</td>\n",
       "      <td>22690</td>\n",
       "      <td>Jun-1990</td>\n",
       "    </tr>\n",
       "    <tr>\n",
       "      <th>1</th>\n",
       "      <td>B</td>\n",
       "      <td>B5</td>\n",
       "      <td>Credit analyst</td>\n",
       "      <td>4 years</td>\n",
       "      <td>MORTGAGE</td>\n",
       "      <td>Not Verified</td>\n",
       "      <td>Jan-2015</td>\n",
       "      <td>debt_consolidation</td>\n",
       "      <td>Debt consolidation</td>\n",
       "      <td>INDIVIDUAL</td>\n",
       "      <td>Loganmouth</td>\n",
       "      <td>SD</td>\n",
       "      <td>05113</td>\n",
       "      <td>Jul-2004</td>\n",
       "    </tr>\n",
       "    <tr>\n",
       "      <th>2</th>\n",
       "      <td>B</td>\n",
       "      <td>B3</td>\n",
       "      <td>Statistician</td>\n",
       "      <td>&lt; 1 year</td>\n",
       "      <td>RENT</td>\n",
       "      <td>Source Verified</td>\n",
       "      <td>Jan-2015</td>\n",
       "      <td>credit_card</td>\n",
       "      <td>Credit card refinancing</td>\n",
       "      <td>INDIVIDUAL</td>\n",
       "      <td>New Sabrina</td>\n",
       "      <td>WV</td>\n",
       "      <td>05113</td>\n",
       "      <td>Aug-2007</td>\n",
       "    </tr>\n",
       "    <tr>\n",
       "      <th>3</th>\n",
       "      <td>A</td>\n",
       "      <td>A2</td>\n",
       "      <td>Client Advocate</td>\n",
       "      <td>6 years</td>\n",
       "      <td>RENT</td>\n",
       "      <td>Not Verified</td>\n",
       "      <td>Nov-2014</td>\n",
       "      <td>credit_card</td>\n",
       "      <td>Credit card refinancing</td>\n",
       "      <td>INDIVIDUAL</td>\n",
       "      <td>Delacruzside</td>\n",
       "      <td>MA</td>\n",
       "      <td>00813</td>\n",
       "      <td>Sep-2006</td>\n",
       "    </tr>\n",
       "    <tr>\n",
       "      <th>4</th>\n",
       "      <td>C</td>\n",
       "      <td>C5</td>\n",
       "      <td>Destiny Management Inc.</td>\n",
       "      <td>9 years</td>\n",
       "      <td>MORTGAGE</td>\n",
       "      <td>Verified</td>\n",
       "      <td>Apr-2013</td>\n",
       "      <td>credit_card</td>\n",
       "      <td>Credit Card Refinance</td>\n",
       "      <td>INDIVIDUAL</td>\n",
       "      <td>Greggshire</td>\n",
       "      <td>VA</td>\n",
       "      <td>11650</td>\n",
       "      <td>Mar-1999</td>\n",
       "    </tr>\n",
       "  </tbody>\n",
       "</table>\n",
       "</div>"
      ],
      "text/plain": [
       "  grade sub_grade                emp_title emp_length home_ownership  \\\n",
       "0     B        B4                Marketing  10+ years           RENT   \n",
       "1     B        B5          Credit analyst     4 years       MORTGAGE   \n",
       "2     B        B3             Statistician   < 1 year           RENT   \n",
       "3     A        A2          Client Advocate    6 years           RENT   \n",
       "4     C        C5  Destiny Management Inc.    9 years       MORTGAGE   \n",
       "\n",
       "  verification_status   issue_d             purpose                    title  \\\n",
       "0        Not Verified  Jan-2015            vacation                 Vacation   \n",
       "1        Not Verified  Jan-2015  debt_consolidation       Debt consolidation   \n",
       "2     Source Verified  Jan-2015         credit_card  Credit card refinancing   \n",
       "3        Not Verified  Nov-2014         credit_card  Credit card refinancing   \n",
       "4            Verified  Apr-2013         credit_card    Credit Card Refinance   \n",
       "\n",
       "  application_type         place some_abbr pin_code earliest_cr_line  \n",
       "0       INDIVIDUAL   Mendozaberg        OK    22690         Jun-1990  \n",
       "1       INDIVIDUAL    Loganmouth        SD    05113         Jul-2004  \n",
       "2       INDIVIDUAL   New Sabrina        WV    05113         Aug-2007  \n",
       "3       INDIVIDUAL  Delacruzside        MA    00813         Sep-2006  \n",
       "4       INDIVIDUAL    Greggshire        VA    11650         Mar-1999  "
      ]
     },
     "execution_count": 171,
     "metadata": {},
     "output_type": "execute_result"
    }
   ],
   "source": [
    "loan_data[encode_cols].head()"
   ]
  },
  {
   "cell_type": "code",
   "execution_count": null,
   "id": "cf5b7d90",
   "metadata": {
    "collapsed": true
   },
   "outputs": [],
   "source": [
    "loan_data.replace({'term' : {' 36 months' : 36, ' 60 months' : 60}}, inplace = True)\n",
    "# loan_data.head()"
   ]
  },
  {
   "cell_type": "code",
   "execution_count": 174,
   "id": "f04a8404",
   "metadata": {
    "collapsed": true
   },
   "outputs": [
    {
     "data": {
      "text/plain": [
       "['grade',\n",
       " 'sub_grade',\n",
       " 'emp_title',\n",
       " 'emp_length',\n",
       " 'home_ownership',\n",
       " 'verification_status',\n",
       " 'issue_d',\n",
       " 'purpose',\n",
       " 'title',\n",
       " 'application_type',\n",
       " 'place',\n",
       " 'some_abbr',\n",
       " 'pin_code',\n",
       " 'earliest_cr_line']"
      ]
     },
     "execution_count": 174,
     "metadata": {},
     "output_type": "execute_result"
    }
   ],
   "source": [
    "encode_cols"
   ]
  },
  {
   "cell_type": "code",
   "execution_count": null,
   "id": "6b8e39c5",
   "metadata": {},
   "outputs": [],
   "source": [
    "targetEncoder = TargetEncoder()\n",
    "loan_data[encode_cols] = targetEncoder.fit_transform(loan_data[encode_cols], loan_data[\"loan_status_int\"])\n",
    "# loan_data.head()"
   ]
  },
  {
   "cell_type": "code",
   "execution_count": 184,
   "id": "a9dd6320",
   "metadata": {},
   "outputs": [],
   "source": [
    "loan_data.replace({'initial_list_status' : {'w' : 1, 'f' : 0}}, inplace = True)"
   ]
  },
  {
   "cell_type": "markdown",
   "id": "5f6a6a6c",
   "metadata": {},
   "source": [
    "## Train Test Split"
   ]
  },
  {
   "cell_type": "code",
   "execution_count": 186,
   "id": "5d2e220c",
   "metadata": {},
   "outputs": [],
   "source": [
    "from sklearn.model_selection import train_test_split"
   ]
  },
  {
   "cell_type": "code",
   "execution_count": 203,
   "id": "2dc01f5e",
   "metadata": {},
   "outputs": [],
   "source": [
    "X = loan_data.drop(['loan_status_int'], axis=1)\n",
    "Y = loan_data[['loan_status_int']]"
   ]
  },
  {
   "cell_type": "code",
   "execution_count": 204,
   "id": "a1cc0abb",
   "metadata": {},
   "outputs": [],
   "source": [
    "X_train, X_test, Y_train, Y_test = train_test_split(X, Y, test_size=0.30, random_state=42)"
   ]
  },
  {
   "cell_type": "markdown",
   "id": "85f4297d",
   "metadata": {},
   "source": [
    "## Scaling the data"
   ]
  },
  {
   "cell_type": "code",
   "execution_count": 178,
   "id": "166e5262",
   "metadata": {},
   "outputs": [],
   "source": [
    "from sklearn.preprocessing import MinMaxScaler"
   ]
  },
  {
   "cell_type": "code",
   "execution_count": 205,
   "id": "8b560ec4",
   "metadata": {},
   "outputs": [],
   "source": [
    "min_max_scaler_x = MinMaxScaler()\n",
    "\n",
    "min_max_scaler_y = MinMaxScaler()"
   ]
  },
  {
   "cell_type": "code",
   "execution_count": 207,
   "id": "04c06d35",
   "metadata": {},
   "outputs": [
    {
     "data": {
      "text/html": [
       "<style>#sk-container-id-1 {color: black;background-color: white;}#sk-container-id-1 pre{padding: 0;}#sk-container-id-1 div.sk-toggleable {background-color: white;}#sk-container-id-1 label.sk-toggleable__label {cursor: pointer;display: block;width: 100%;margin-bottom: 0;padding: 0.3em;box-sizing: border-box;text-align: center;}#sk-container-id-1 label.sk-toggleable__label-arrow:before {content: \"▸\";float: left;margin-right: 0.25em;color: #696969;}#sk-container-id-1 label.sk-toggleable__label-arrow:hover:before {color: black;}#sk-container-id-1 div.sk-estimator:hover label.sk-toggleable__label-arrow:before {color: black;}#sk-container-id-1 div.sk-toggleable__content {max-height: 0;max-width: 0;overflow: hidden;text-align: left;background-color: #f0f8ff;}#sk-container-id-1 div.sk-toggleable__content pre {margin: 0.2em;color: black;border-radius: 0.25em;background-color: #f0f8ff;}#sk-container-id-1 input.sk-toggleable__control:checked~div.sk-toggleable__content {max-height: 200px;max-width: 100%;overflow: auto;}#sk-container-id-1 input.sk-toggleable__control:checked~label.sk-toggleable__label-arrow:before {content: \"▾\";}#sk-container-id-1 div.sk-estimator input.sk-toggleable__control:checked~label.sk-toggleable__label {background-color: #d4ebff;}#sk-container-id-1 div.sk-label input.sk-toggleable__control:checked~label.sk-toggleable__label {background-color: #d4ebff;}#sk-container-id-1 input.sk-hidden--visually {border: 0;clip: rect(1px 1px 1px 1px);clip: rect(1px, 1px, 1px, 1px);height: 1px;margin: -1px;overflow: hidden;padding: 0;position: absolute;width: 1px;}#sk-container-id-1 div.sk-estimator {font-family: monospace;background-color: #f0f8ff;border: 1px dotted black;border-radius: 0.25em;box-sizing: border-box;margin-bottom: 0.5em;}#sk-container-id-1 div.sk-estimator:hover {background-color: #d4ebff;}#sk-container-id-1 div.sk-parallel-item::after {content: \"\";width: 100%;border-bottom: 1px solid gray;flex-grow: 1;}#sk-container-id-1 div.sk-label:hover label.sk-toggleable__label {background-color: #d4ebff;}#sk-container-id-1 div.sk-serial::before {content: \"\";position: absolute;border-left: 1px solid gray;box-sizing: border-box;top: 0;bottom: 0;left: 50%;z-index: 0;}#sk-container-id-1 div.sk-serial {display: flex;flex-direction: column;align-items: center;background-color: white;padding-right: 0.2em;padding-left: 0.2em;position: relative;}#sk-container-id-1 div.sk-item {position: relative;z-index: 1;}#sk-container-id-1 div.sk-parallel {display: flex;align-items: stretch;justify-content: center;background-color: white;position: relative;}#sk-container-id-1 div.sk-item::before, #sk-container-id-1 div.sk-parallel-item::before {content: \"\";position: absolute;border-left: 1px solid gray;box-sizing: border-box;top: 0;bottom: 0;left: 50%;z-index: -1;}#sk-container-id-1 div.sk-parallel-item {display: flex;flex-direction: column;z-index: 1;position: relative;background-color: white;}#sk-container-id-1 div.sk-parallel-item:first-child::after {align-self: flex-end;width: 50%;}#sk-container-id-1 div.sk-parallel-item:last-child::after {align-self: flex-start;width: 50%;}#sk-container-id-1 div.sk-parallel-item:only-child::after {width: 0;}#sk-container-id-1 div.sk-dashed-wrapped {border: 1px dashed gray;margin: 0 0.4em 0.5em 0.4em;box-sizing: border-box;padding-bottom: 0.4em;background-color: white;}#sk-container-id-1 div.sk-label label {font-family: monospace;font-weight: bold;display: inline-block;line-height: 1.2em;}#sk-container-id-1 div.sk-label-container {text-align: center;}#sk-container-id-1 div.sk-container {/* jupyter's `normalize.less` sets `[hidden] { display: none; }` but bootstrap.min.css set `[hidden] { display: none !important; }` so we also need the `!important` here to be able to override the default hidden behavior on the sphinx rendered scikit-learn.org. See: https://github.com/scikit-learn/scikit-learn/issues/21755 */display: inline-block !important;position: relative;}#sk-container-id-1 div.sk-text-repr-fallback {display: none;}</style><div id=\"sk-container-id-1\" class=\"sk-top-container\"><div class=\"sk-text-repr-fallback\"><pre>MinMaxScaler()</pre><b>In a Jupyter environment, please rerun this cell to show the HTML representation or trust the notebook. <br />On GitHub, the HTML representation is unable to render, please try loading this page with nbviewer.org.</b></div><div class=\"sk-container\" hidden><div class=\"sk-item\"><div class=\"sk-estimator sk-toggleable\"><input class=\"sk-toggleable__control sk-hidden--visually\" id=\"sk-estimator-id-1\" type=\"checkbox\" checked><label for=\"sk-estimator-id-1\" class=\"sk-toggleable__label sk-toggleable__label-arrow\">MinMaxScaler</label><div class=\"sk-toggleable__content\"><pre>MinMaxScaler()</pre></div></div></div></div></div>"
      ],
      "text/plain": [
       "MinMaxScaler()"
      ]
     },
     "execution_count": 207,
     "metadata": {},
     "output_type": "execute_result"
    }
   ],
   "source": [
    "min_max_scaler_x.fit(X_train)\n",
    "\n",
    "min_max_scaler_y.fit(Y_train.values.reshape(-1, 1))"
   ]
  },
  {
   "cell_type": "code",
   "execution_count": 209,
   "id": "55a772e6",
   "metadata": {},
   "outputs": [],
   "source": [
    "# loan_data.columns\n",
    "feature_cols = ['loan_amnt', 'term', 'int_rate', 'installment', 'grade', 'sub_grade',\n",
    "       'emp_title', 'emp_length', 'home_ownership', 'annual_inc',\n",
    "       'verification_status', 'issue_d', 'purpose', 'title', 'dti',\n",
    "       'earliest_cr_line', 'open_acc', 'revol_bal', 'revol_util', 'total_acc',\n",
    "       'initial_list_status', 'application_type', 'place', 'some_abbr',\n",
    "       'pin_code', 'pub_rec_flag', 'mort_acc_flag',\n",
    "       'pub_rec_bankruptcies_flag']\n",
    "\n",
    "target_col = ['loan_status_int']"
   ]
  },
  {
   "cell_type": "code",
   "execution_count": 210,
   "id": "3de80f42",
   "metadata": {},
   "outputs": [],
   "source": [
    "X_train_scaled = pd.DataFrame(min_max_scaler_x.transform(X_train), columns = feature_cols)\n",
    "X_test_scaled = pd.DataFrame(min_max_scaler_x.transform(X_test), columns = feature_cols)"
   ]
  },
  {
   "cell_type": "code",
   "execution_count": 211,
   "id": "4319db6a",
   "metadata": {},
   "outputs": [
    {
     "name": "stderr",
     "output_type": "stream",
     "text": [
      "C:\\Users\\admin\\AppData\\Local\\Programs\\Python\\Python310\\lib\\site-packages\\sklearn\\base.py:443: UserWarning: X has feature names, but MinMaxScaler was fitted without feature names\n",
      "  warnings.warn(\n",
      "C:\\Users\\admin\\AppData\\Local\\Programs\\Python\\Python310\\lib\\site-packages\\sklearn\\base.py:443: UserWarning: X has feature names, but MinMaxScaler was fitted without feature names\n",
      "  warnings.warn(\n"
     ]
    }
   ],
   "source": [
    "Y_train_scaled = pd.DataFrame(min_max_scaler_y.transform(Y_train), columns = target_col)\n",
    "Y_test_scaled = pd.DataFrame(min_max_scaler_y.transform(Y_test), columns = target_col)"
   ]
  },
  {
   "cell_type": "code",
   "execution_count": null,
   "id": "2571ae30",
   "metadata": {},
   "outputs": [],
   "source": []
  },
  {
   "cell_type": "markdown",
   "id": "c95af661",
   "metadata": {},
   "source": [
    "## Model Creation"
   ]
  },
  {
   "cell_type": "code",
   "execution_count": 125,
   "id": "8196bbb0",
   "metadata": {},
   "outputs": [],
   "source": [
    "from sklearn.linear_model import LogisticRegression"
   ]
  },
  {
   "cell_type": "code",
   "execution_count": 212,
   "id": "d8972e8c",
   "metadata": {},
   "outputs": [
    {
     "name": "stderr",
     "output_type": "stream",
     "text": [
      "C:\\Users\\admin\\AppData\\Local\\Programs\\Python\\Python310\\lib\\site-packages\\sklearn\\utils\\validation.py:1111: DataConversionWarning: A column-vector y was passed when a 1d array was expected. Please change the shape of y to (n_samples, ), for example using ravel().\n",
      "  y = column_or_1d(y, warn=True)\n",
      "C:\\Users\\admin\\AppData\\Local\\Programs\\Python\\Python310\\lib\\site-packages\\sklearn\\linear_model\\_logistic.py:444: ConvergenceWarning: lbfgs failed to converge (status=1):\n",
      "STOP: TOTAL NO. of ITERATIONS REACHED LIMIT.\n",
      "\n",
      "Increase the number of iterations (max_iter) or scale the data as shown in:\n",
      "    https://scikit-learn.org/stable/modules/preprocessing.html\n",
      "Please also refer to the documentation for alternative solver options:\n",
      "    https://scikit-learn.org/stable/modules/linear_model.html#logistic-regression\n",
      "  n_iter_i = _check_optimize_result(\n"
     ]
    },
    {
     "data": {
      "text/html": [
       "<style>#sk-container-id-2 {color: black;background-color: white;}#sk-container-id-2 pre{padding: 0;}#sk-container-id-2 div.sk-toggleable {background-color: white;}#sk-container-id-2 label.sk-toggleable__label {cursor: pointer;display: block;width: 100%;margin-bottom: 0;padding: 0.3em;box-sizing: border-box;text-align: center;}#sk-container-id-2 label.sk-toggleable__label-arrow:before {content: \"▸\";float: left;margin-right: 0.25em;color: #696969;}#sk-container-id-2 label.sk-toggleable__label-arrow:hover:before {color: black;}#sk-container-id-2 div.sk-estimator:hover label.sk-toggleable__label-arrow:before {color: black;}#sk-container-id-2 div.sk-toggleable__content {max-height: 0;max-width: 0;overflow: hidden;text-align: left;background-color: #f0f8ff;}#sk-container-id-2 div.sk-toggleable__content pre {margin: 0.2em;color: black;border-radius: 0.25em;background-color: #f0f8ff;}#sk-container-id-2 input.sk-toggleable__control:checked~div.sk-toggleable__content {max-height: 200px;max-width: 100%;overflow: auto;}#sk-container-id-2 input.sk-toggleable__control:checked~label.sk-toggleable__label-arrow:before {content: \"▾\";}#sk-container-id-2 div.sk-estimator input.sk-toggleable__control:checked~label.sk-toggleable__label {background-color: #d4ebff;}#sk-container-id-2 div.sk-label input.sk-toggleable__control:checked~label.sk-toggleable__label {background-color: #d4ebff;}#sk-container-id-2 input.sk-hidden--visually {border: 0;clip: rect(1px 1px 1px 1px);clip: rect(1px, 1px, 1px, 1px);height: 1px;margin: -1px;overflow: hidden;padding: 0;position: absolute;width: 1px;}#sk-container-id-2 div.sk-estimator {font-family: monospace;background-color: #f0f8ff;border: 1px dotted black;border-radius: 0.25em;box-sizing: border-box;margin-bottom: 0.5em;}#sk-container-id-2 div.sk-estimator:hover {background-color: #d4ebff;}#sk-container-id-2 div.sk-parallel-item::after {content: \"\";width: 100%;border-bottom: 1px solid gray;flex-grow: 1;}#sk-container-id-2 div.sk-label:hover label.sk-toggleable__label {background-color: #d4ebff;}#sk-container-id-2 div.sk-serial::before {content: \"\";position: absolute;border-left: 1px solid gray;box-sizing: border-box;top: 0;bottom: 0;left: 50%;z-index: 0;}#sk-container-id-2 div.sk-serial {display: flex;flex-direction: column;align-items: center;background-color: white;padding-right: 0.2em;padding-left: 0.2em;position: relative;}#sk-container-id-2 div.sk-item {position: relative;z-index: 1;}#sk-container-id-2 div.sk-parallel {display: flex;align-items: stretch;justify-content: center;background-color: white;position: relative;}#sk-container-id-2 div.sk-item::before, #sk-container-id-2 div.sk-parallel-item::before {content: \"\";position: absolute;border-left: 1px solid gray;box-sizing: border-box;top: 0;bottom: 0;left: 50%;z-index: -1;}#sk-container-id-2 div.sk-parallel-item {display: flex;flex-direction: column;z-index: 1;position: relative;background-color: white;}#sk-container-id-2 div.sk-parallel-item:first-child::after {align-self: flex-end;width: 50%;}#sk-container-id-2 div.sk-parallel-item:last-child::after {align-self: flex-start;width: 50%;}#sk-container-id-2 div.sk-parallel-item:only-child::after {width: 0;}#sk-container-id-2 div.sk-dashed-wrapped {border: 1px dashed gray;margin: 0 0.4em 0.5em 0.4em;box-sizing: border-box;padding-bottom: 0.4em;background-color: white;}#sk-container-id-2 div.sk-label label {font-family: monospace;font-weight: bold;display: inline-block;line-height: 1.2em;}#sk-container-id-2 div.sk-label-container {text-align: center;}#sk-container-id-2 div.sk-container {/* jupyter's `normalize.less` sets `[hidden] { display: none; }` but bootstrap.min.css set `[hidden] { display: none !important; }` so we also need the `!important` here to be able to override the default hidden behavior on the sphinx rendered scikit-learn.org. See: https://github.com/scikit-learn/scikit-learn/issues/21755 */display: inline-block !important;position: relative;}#sk-container-id-2 div.sk-text-repr-fallback {display: none;}</style><div id=\"sk-container-id-2\" class=\"sk-top-container\"><div class=\"sk-text-repr-fallback\"><pre>LogisticRegression()</pre><b>In a Jupyter environment, please rerun this cell to show the HTML representation or trust the notebook. <br />On GitHub, the HTML representation is unable to render, please try loading this page with nbviewer.org.</b></div><div class=\"sk-container\" hidden><div class=\"sk-item\"><div class=\"sk-estimator sk-toggleable\"><input class=\"sk-toggleable__control sk-hidden--visually\" id=\"sk-estimator-id-2\" type=\"checkbox\" checked><label for=\"sk-estimator-id-2\" class=\"sk-toggleable__label sk-toggleable__label-arrow\">LogisticRegression</label><div class=\"sk-toggleable__content\"><pre>LogisticRegression()</pre></div></div></div></div></div>"
      ],
      "text/plain": [
       "LogisticRegression()"
      ]
     },
     "execution_count": 212,
     "metadata": {},
     "output_type": "execute_result"
    }
   ],
   "source": [
    "model = LogisticRegression()\n",
    "model.fit(X_train_scaled, Y_train_scaled)"
   ]
  },
  {
   "cell_type": "code",
   "execution_count": null,
   "id": "bf49549a",
   "metadata": {},
   "outputs": [],
   "source": [
    "model.predict_proba()"
   ]
  },
  {
   "cell_type": "code",
   "execution_count": 213,
   "id": "a3fe3765",
   "metadata": {},
   "outputs": [
    {
     "data": {
      "text/plain": [
       "0.974613506916192"
      ]
     },
     "execution_count": 213,
     "metadata": {},
     "output_type": "execute_result"
    }
   ],
   "source": [
    "model.score(X_test_scaled, Y_test_scaled)"
   ]
  },
  {
   "cell_type": "markdown",
   "id": "2509ad3c",
   "metadata": {},
   "source": [
    "The model has an accuracy of 97%"
   ]
  },
  {
   "cell_type": "code",
   "execution_count": 231,
   "id": "aca82b3d",
   "metadata": {},
   "outputs": [],
   "source": [
    "Y_pred = model.predict(X_test_scaled)"
   ]
  },
  {
   "cell_type": "code",
   "execution_count": 220,
   "id": "3c3f7915",
   "metadata": {},
   "outputs": [
    {
     "data": {
      "text/plain": [
       "array([0.00355626, 0.9813005 , 0.9988279 , ..., 0.99635368, 0.75926683,\n",
       "       0.99939439])"
      ]
     },
     "execution_count": 220,
     "metadata": {},
     "output_type": "execute_result"
    }
   ],
   "source": [
    "Y_pred_prob = model.predict_proba(X_test_scaled)[::,1]\n",
    "Y_pred_prob"
   ]
  },
  {
   "cell_type": "code",
   "execution_count": 219,
   "id": "c47f5801",
   "metadata": {},
   "outputs": [
    {
     "data": {
      "text/plain": [
       "array([[9.96443740e-01, 3.55625997e-03],\n",
       "       [1.86994994e-02, 9.81300501e-01],\n",
       "       [1.17209819e-03, 9.98827902e-01],\n",
       "       ...,\n",
       "       [3.64632456e-03, 9.96353675e-01],\n",
       "       [2.40733174e-01, 7.59266826e-01],\n",
       "       [6.05611777e-04, 9.99394388e-01]])"
      ]
     },
     "execution_count": 219,
     "metadata": {},
     "output_type": "execute_result"
    }
   ],
   "source": [
    "Y_pred_prob"
   ]
  },
  {
   "cell_type": "markdown",
   "id": "333eec6a",
   "metadata": {},
   "source": [
    "## Classification Report"
   ]
  },
  {
   "cell_type": "code",
   "execution_count": 229,
   "id": "53b4c153",
   "metadata": {},
   "outputs": [],
   "source": [
    "from sklearn.metrics import classification_report"
   ]
  },
  {
   "cell_type": "code",
   "execution_count": 232,
   "id": "003479db",
   "metadata": {},
   "outputs": [
    {
     "name": "stdout",
     "output_type": "stream",
     "text": [
      "                  precision    recall  f1-score   support\n",
      "\n",
      "   loan approved       0.95      0.91      0.93      1173\n",
      "loan disapproved       0.98      0.99      0.98      4972\n",
      "\n",
      "        accuracy                           0.97      6145\n",
      "       macro avg       0.97      0.95      0.96      6145\n",
      "    weighted avg       0.97      0.97      0.97      6145\n",
      "\n"
     ]
    }
   ],
   "source": [
    "target_names = ['loan approved', 'loan disapproved']\n",
    "print(classification_report(Y_test_scaled, Y_pred, target_names=target_names))"
   ]
  },
  {
   "cell_type": "markdown",
   "id": "c26228ec",
   "metadata": {},
   "source": [
    "The model has a good precision, recall and f1-score and thus we can go ahead with this model."
   ]
  },
  {
   "cell_type": "markdown",
   "id": "dec74128",
   "metadata": {},
   "source": [
    "## Confusion Matrix"
   ]
  },
  {
   "cell_type": "code",
   "execution_count": 234,
   "id": "55d8911e",
   "metadata": {},
   "outputs": [
    {
     "data": {
      "text/plain": [
       "array([[1070,  103],\n",
       "       [  53, 4919]], dtype=int64)"
      ]
     },
     "execution_count": 234,
     "metadata": {},
     "output_type": "execute_result"
    }
   ],
   "source": [
    "from sklearn.metrics import confusion_matrix\n",
    "\n",
    "cnf_matrix = confusion_matrix(Y_test_scaled, Y_pred)\n",
    "cnf_matrix"
   ]
  },
  {
   "cell_type": "code",
   "execution_count": 236,
   "id": "bad55f86",
   "metadata": {},
   "outputs": [
    {
     "data": {
      "image/png": "[encoded data removed]",
      "text/plain": [
       "<Figure size 432x288 with 2 Axes>"
      ]
     },
     "metadata": {
      "needs_background": "light"
     },
     "output_type": "display_data"
    }
   ],
   "source": [
    "class_names=[0,1] # name  of classes\n",
    "fig, ax = mp.subplots()\n",
    "tick_marks = np.arange(len(class_names))\n",
    "mp.xticks(tick_marks, class_names)\n",
    "mp.yticks(tick_marks, class_names)\n",
    "# create heatmap\n",
    "sns.heatmap(pd.DataFrame(cnf_matrix), annot=True, cmap=\"YlGnBu\" ,fmt='g')\n",
    "ax.xaxis.set_label_position(\"top\")\n",
    "mp.tight_layout()\n",
    "mp.title('Confusion matrix', y=1.1)\n",
    "mp.ylabel('Actual label')\n",
    "mp.xlabel('Predicted label')\n",
    "\n",
    "mp.Text(0.5,257.44,'Predicted label');"
   ]
  },
  {
   "cell_type": "markdown",
   "id": "4e07a750",
   "metadata": {},
   "source": [
    "The True Negatives and True Positives are much higher than the False Positives and False Negatives."
   ]
  },
  {
   "cell_type": "markdown",
   "id": "358b9905",
   "metadata": {},
   "source": [
    "## ROC AUC Curve"
   ]
  },
  {
   "cell_type": "code",
   "execution_count": 226,
   "id": "97a60ce7",
   "metadata": {},
   "outputs": [],
   "source": [
    "from sklearn.metrics import roc_auc_score"
   ]
  },
  {
   "cell_type": "code",
   "execution_count": 228,
   "id": "8fcd61ed",
   "metadata": {},
   "outputs": [
    {
     "data": {
      "image/png": "[encoded data removed]",
      "text/plain": [
       "<Figure size 432x288 with 1 Axes>"
      ]
     },
     "metadata": {
      "needs_background": "light"
     },
     "output_type": "display_data"
    }
   ],
   "source": [
    "fpr, tpr, thresholds = roc_curve(Y_test_scaled, Y_pred_prob)\n",
    "\n",
    "auc = roc_auc_score(Y_test_scaled, Y_pred_prob)\n",
    "mp.plot(fpr,tpr,label=\"data 1, auc=\"+str(auc))\n",
    "mp.legend(loc=4)\n",
    "mp.show()"
   ]
  },
  {
   "cell_type": "markdown",
   "id": "a7e6bac2",
   "metadata": {},
   "source": [
    "This is the best model for the given task of identifying if the credit line should be extended to the customer given all their details or not."
   ]
  },
  {
   "cell_type": "markdown",
   "id": "518e8704",
   "metadata": {},
   "source": [
    "## Insights and Recommendations"
   ]
  },
  {
   "cell_type": "markdown",
   "id": "db3cfe61",
   "metadata": {},
   "source": [
    "### Insights\n",
    "* There were a lot of missing values which had to be filled with the given data which makes the data overall slightly unreliable.\n",
    "* The loan_status is not significantly but somewhat negatively correlated with the interest rate.\n",
    "\n",
    "### Recommendations\n",
    "More details regarding the customer could have been mentioned such as:-\n",
    "* Age\n",
    "* Credit Score\n",
    "* CIBIL Score\n",
    "etc.\n",
    "\n",
    "This might have made the model more accurate in terms of the prediction and metrics."
   ]
  },
  {
   "cell_type": "markdown",
   "id": "6b971336",
   "metadata": {},
   "source": [
    "<div style='text-align: right;'>\n",
    "  <b>Analysis performed by - Deep Doshi<b>\n",
    "</div>\n",
    "      <br>\n",
    "<div style='text-align: right;'>\n",
    "  <b>Last updated on - 08/10/2023<b>\n",
    "</div>"
   ]
  }
 ],
 "metadata": {
  "kernelspec": {
   "display_name": "Python 3",
   "language": "python",
   "name": "python3"
  },
  "language_info": {
   "codemirror_mode": {
    "name": "ipython",
    "version": 3
   },
   "file_extension": ".py",
   "mimetype": "text/x-python",
   "name": "python",
   "nbconvert_exporter": "python",
   "pygments_lexer": "ipython3",
   "version": "3.10.4"
  }
 },
 "nbformat": 4,
 "nbformat_minor": 5
}
